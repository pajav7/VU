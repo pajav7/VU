{
 "cells": [
  {
   "cell_type": "code",
   "execution_count": 3,
   "metadata": {},
   "outputs": [
    {
     "name": "stdout",
     "output_type": "stream",
     "text": [
      "Run\n"
     ]
    }
   ],
   "source": [
    "import matplotlib.pyplot as pp\n",
    "import numpy as np\n",
    "\n",
    "def plotSpectrum(spectrum, m, Xmin, Xmax, Ymin, Ymax, filename): #plots spectrum\n",
    "    p = list_plot([beta_complex(l) for l in spectrum], axes_labels=['Re','Im'],axes_labels_size=1, size=20, color = Color(1.0,0.0, 0.35))\n",
    "#     ar = np.sort([beta_complex(l) for l in spectrum])\n",
    "#     p = pp.plot(ar, np.zeros_like(ar), '.',color = (1.0,0.0, 0.35), aspect_ratio=1, axes = False)\n",
    "#     pp.axes('off')\n",
    "#     pp.show()\n",
    "    p.show(xmin = Xmin, xmax = Xmax, ymin = Ymin, ymax = Ymax, aspect_ratio = 1)\n",
    "    p.save(filename, aspect_ratio = 1)\n",
    "    \n",
    "def createString(k, i): #creates a list from D[k] and digit i\n",
    "    aux = list(SS[k])\n",
    "    aux = list([i] + aux[0:numPositions-2])\n",
    "    return list(aux) \n",
    "\n",
    "def addNewElement(k, i, degree): #adds a new element a checks if it can not be rewritten\n",
    "    string = createString(k, i)\n",
    "    spectrum.append(tau*spectrum[k]+i) #add new element to the spectrum\n",
    "    SS.append(string)\n",
    "            \n",
    "def getSpectrumForM(spectrum, A, maxDegree, Xmin, Xmax, Ymin, Ymax, filename): #generating of the spectrum upto the power maxDegree\n",
    "    numNewElements = []\n",
    "    numNewElements.append(len(A))\n",
    "    sumElementsLowDegree = 0\n",
    "    m = 1\n",
    "    print \"\"\n",
    "    print \" m = \", m\n",
    "    print numNewElements[len(numNewElements)-1]\n",
    "    plotSpectrum(spectrum, m, Xmin, Xmax, Ymin, Ymax, filename)\n",
    "    for degree in range(1, maxDegree):\n",
    "        m = degree +1\n",
    "        for k in range(sumElementsLowDegree, sum(numNewElements)): #iteration over existing elements created in previous iteration\n",
    "            for i in A: \n",
    "                new = 1 \n",
    "                for j in spectrum: #comparison with existing elements of the spectrum\n",
    "                    if tau*spectrum[k] + i == j: #comparison of values\n",
    "                        new = 0\n",
    "                if new == 1:\n",
    "                    if abs(beta_complex(tau*spectrum[k]+i)) !=0:\n",
    "                        addNewElement(k, i, degree)                      \n",
    "        sumElementsLowDegree = sum(numNewElements) #actual number of elements from the all iteration (except the last)\n",
    "        numNewElements.append(len(spectrum)-sumElementsLowDegree) #adding of the number of elements from the last iteration\n",
    "        print \"m = \", m\n",
    "        print numNewElements[len(numNewElements)-1]\n",
    "        plotSpectrum(spectrum, m, Xmin, Xmax, Ymin, Ymax, filename) #ploting of the spectrum\n",
    "print \"Run\"    \n"
   ]
  },
  {
   "cell_type": "code",
   "execution_count": null,
   "metadata": {},
   "outputs": [],
   "source": []
  }
 ],
 "metadata": {
  "kernelspec": {
   "display_name": "SageMath 8.8",
   "language": "sage",
   "name": "sagemath"
  },
  "language_info": {
   "codemirror_mode": {
    "name": "ipython",
    "version": 2
   },
   "file_extension": ".py",
   "mimetype": "text/x-python",
   "name": "python",
   "nbconvert_exporter": "python",
   "pygments_lexer": "ipython2",
   "version": "2.7.15"
  }
 },
 "nbformat": 4,
 "nbformat_minor": 2
}

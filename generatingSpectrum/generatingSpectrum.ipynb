{
 "cells": [
  {
   "cell_type": "code",
   "execution_count": 1,
   "metadata": {},
   "outputs": [
    {
     "name": "stdout",
     "output_type": "stream",
     "text": [
      "Run\n"
     ]
    }
   ],
   "source": [
    "import matplotlib.pyplot as pp\n",
    "import numpy as np\n",
    "\n",
    "def plotSpectrum(spektrum, m, Xmin, Xmax, Ymin, Ymax, filename): #plots spectrum\n",
    "    p = list_plot([beta_complex(l) for l in spektrum], axes_labels=['Re','Im'],axes_labels_size=1, size=20, color = Color(1.0,0.0, 0.35))\n",
    "#     ar = np.sort([beta_complex(l) for l in spektrum])\n",
    "#     p = pp.plot(ar, np.zeros_like(ar), '.',color = (1.0,0.0, 0.35), aspect_ratio=1, axes = False)\n",
    "#     pp.axes('off')\n",
    "#     pp.show()\n",
    "    p.show(xmin = Xmin, xmax = Xmax, ymin = Ymin, ymax = Ymax, aspect_ratio = 1)\n",
    "    p.save(filename, aspect_ratio = 1)\n",
    "    \n",
    "def vytvoritRetezec(k, i): #creates a list from D[k] and digit i\n",
    "    pomocna = list(SS[k])\n",
    "    pomocna = list([i] + pomocna[0:pocetPozic-2])\n",
    "    return list(pomocna) \n",
    "\n",
    "def pridatNovyPrvek(k, i, rad): #adds a new element a checks if it can not be rewritten\n",
    "    retezec = vytvoritRetezec(k, i)\n",
    "    spektrum.append(tau*spektrum[k]+i) #pridani noveho prvku do mnoziny\n",
    "    SS.append(retezec)\n",
    "            \n",
    "def getSpectrumForM(spektrum, A, maxRad, Xmin, Xmax, Ymin, Ymax, filename): #generating of the spectrum upto the power maxRad\n",
    "    pocetNovychPrvku = []\n",
    "    pocetNovychPrvku.append(len(A))\n",
    "    sumaPrvkuNizsihoRadu = 0\n",
    "    m = 1\n",
    "    print \"\"\n",
    "    print \" m = \", m\n",
    "    print pocetNovychPrvku[len(pocetNovychPrvku)-1]\n",
    "    plotSpectrum(spektrum, m, Xmin, Xmax, Ymin, Ymax, filename)\n",
    "    for rad in range(1, maxRad):\n",
    "        m = rad +1\n",
    "        for k in range(sumaPrvkuNizsihoRadu, sum(pocetNovychPrvku)): #iteration over existing elements created in previous iteration\n",
    "            for i in A: \n",
    "                novy = 1 \n",
    "                for j in spektrum: #comparison with existing elements of the spectrum\n",
    "                    if tau*spektrum[k] + i == j: #comparison of values\n",
    "                        novy = 0\n",
    "                if novy == 1:\n",
    "                    if abs(beta_complex(tau*spektrum[k]+i)) !=0:\n",
    "                        pridatNovyPrvek(k, i, rad)                      \n",
    "        sumaPrvkuNizsihoRadu = sum(pocetNovychPrvku) #actual number of elements from the all iteration (except the last)\n",
    "        pocetNovychPrvku.append(len(spektrum)-sumaPrvkuNizsihoRadu) #adding of the number of elements from the last iteration\n",
    "        print \"m = \", m\n",
    "        print pocetNovychPrvku[len(pocetNovychPrvku)-1]\n",
    "        plotSpectrum(spektrum, m, Xmin, Xmax, Ymin, Ymax, filename) #ploting of the spectrum\n",
    "print \"Run\"    \n"
   ]
  },
  {
   "cell_type": "code",
   "execution_count": null,
   "metadata": {},
   "outputs": [],
   "source": []
  }
 ],
 "metadata": {
  "kernelspec": {
   "display_name": "SageMath 8.8",
   "language": "sage",
   "name": "sagemath"
  },
  "language_info": {
   "codemirror_mode": {
    "name": "ipython",
    "version": 2
   },
   "file_extension": ".py",
   "mimetype": "text/x-python",
   "name": "python",
   "nbconvert_exporter": "python",
   "pygments_lexer": "ipython2",
   "version": "2.7.15"
  }
 },
 "nbformat": 4,
 "nbformat_minor": 2
}
